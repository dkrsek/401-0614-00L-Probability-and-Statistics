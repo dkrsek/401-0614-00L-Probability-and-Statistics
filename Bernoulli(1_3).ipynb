{
  "nbformat": 4,
  "nbformat_minor": 0,
  "metadata": {
    "colab": {
      "provenance": [],
      "authorship_tag": "ABX9TyMnzlxrXlAvCL9KoxC9Bq6A",
      "include_colab_link": true
    },
    "kernelspec": {
      "name": "python3",
      "display_name": "Python 3"
    },
    "language_info": {
      "name": "python"
    }
  },
  "cells": [
    {
      "cell_type": "markdown",
      "metadata": {
        "id": "view-in-github",
        "colab_type": "text"
      },
      "source": [
        "<a href=\"https://colab.research.google.com/github/dkrsek/401-0614-00L-Probability-and-Statistics/blob/main/Bernoulli(1_3).ipynb\" target=\"_parent\"><img src=\"https://colab.research.google.com/assets/colab-badge.svg\" alt=\"Open In Colab\"/></a>"
      ]
    },
    {
      "cell_type": "markdown",
      "source": [
        "# **Generator**"
      ],
      "metadata": {
        "id": "uMCvh07OYNtj"
      }
    },
    {
      "cell_type": "code",
      "execution_count": null,
      "metadata": {
        "id": "Y8Cc9L_v6nxm",
        "colab": {
          "base_uri": "https://localhost:8080/"
        },
        "outputId": "1218201d-8901-4d8a-8da3-de771dfcfc8f"
      },
      "outputs": [
        {
          "output_type": "stream",
          "name": "stdout",
          "text": [
            "Proportion of 0s: 0.3318\n",
            "Proportion of 1s: 0.3347\n",
            "Proportion of 2s: 0.3335\n"
          ]
        }
      ],
      "source": [
        "import numpy as np\n",
        "from scipy.stats import chisquare\n",
        "\n",
        "def generate():\n",
        "    i = 1\n",
        "    X_i = np.random.choice([0, 1])\n",
        "    X_iplus1 = np.random.choice([0, 1])\n",
        "\n",
        "    while X_i == 1 and X_iplus1 == 1:\n",
        "        i += 2\n",
        "        X_i = np.random.choice([0, 1])\n",
        "        X_iplus1 = np.random.choice([0, 1])\n",
        "\n",
        "    Z = X_i + 2 * X_iplus1\n",
        "    return Z\n",
        "\n",
        "np.random.seed(3)\n",
        "N=10000\n",
        "\n",
        "# Run the algorithm N times\n",
        "results = [generate() for _ in range(N)]\n",
        "\n",
        "\n",
        "count_0 = results.count(0)\n",
        "count_1 = results.count(1)\n",
        "count_2 = results.count(2)\n",
        "\n",
        "# Check that the observed counts are close to the expected counts\n",
        "print(\"Proportion of 0s:\", count_0/N)\n",
        "print(\"Proportion of 1s:\", count_1/N)\n",
        "print(\"Proportion of 2s:\", count_2/N)"
      ]
    },
    {
      "cell_type": "markdown",
      "source": [
        "# **Chi-squared test**\n",
        "As you will see later in the semester, we can test whether our data come from the Bernoulli(1/3) distribution using the chi-squared test. You can come back to this section later when it's been covered in the lecture."
      ],
      "metadata": {
        "id": "3ipkQ9dFVChv"
      }
    },
    {
      "cell_type": "code",
      "source": [
        "observed_counts = [count_0, count_1, count_2]\n",
        "expected_counts = [N/3, N/3, N/3]\n",
        "\n",
        "# chi-squared test\n",
        "chi2_stat, p_value = chisquare(observed_counts, expected_counts)\n",
        "\n",
        "print(f\"Test statistic: {chi2_stat}\")\n",
        "print(f\"p-value: {p_value}\")\n"
      ],
      "metadata": {
        "colab": {
          "base_uri": "https://localhost:8080/"
        },
        "id": "dA5iKezGUOmT",
        "outputId": "3fea83d1-4ff9-4afb-b33d-93da76cfb3bb"
      },
      "execution_count": null,
      "outputs": [
        {
          "output_type": "stream",
          "name": "stdout",
          "text": [
            "Test statistic: 0.12739999999999999\n",
            "p-value: 0.9382864432450351\n"
          ]
        }
      ]
    },
    {
      "cell_type": "markdown",
      "source": [
        "The p-value is close to 1, indicating that our data fit the Bernoulli(1/3) distribution extremely well.\n",
        "\n",
        "Note that we did **not** prove that the distribution produced by our algorithm is actually Bernoulli(1/3)—this is not even possible based on the generated data. However, the test result suggests that the data are well-aligned with the distribution."
      ],
      "metadata": {
        "id": "LLfIFmFnlV45"
      }
    }
  ]
}